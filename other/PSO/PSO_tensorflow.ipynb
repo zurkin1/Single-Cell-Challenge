{
 "cells": [
  {
   "cell_type": "code",
   "execution_count": 1,
   "metadata": {},
   "outputs": [
    {
     "name": "stderr",
     "output_type": "stream",
     "text": [
      "C:\\Users\\Siby\\Anaconda3\\lib\\site-packages\\h5py\\__init__.py:36: FutureWarning: Conversion of the second argument of issubdtype from `float` to `np.floating` is deprecated. In future, it will be treated as `np.float64 == np.dtype(float).type`.\n",
      "  from ._conv import register_converters as _register_converters\n"
     ]
    }
   ],
   "source": [
    "import tensorflow as tf\n",
    "import numpy as np\n",
    "import pandas as pd\n",
    "import matplotlib.pyplot as plt\n",
    "import time\n",
    "%matplotlib inline"
   ]
  },
  {
   "cell_type": "code",
   "execution_count": 2,
   "metadata": {},
   "outputs": [
    {
     "data": {
      "text/plain": [
       "<matplotlib.collections.PathCollection at 0x133daaeccf8>"
      ]
     },
     "execution_count": 2,
     "metadata": {},
     "output_type": "execute_result"
    },
    {
     "data": {
      "image/png": "[encoded data removed]",
      "text/plain": [
       "<matplotlib.figure.Figure at 0x133da6f6dd8>"
      ]
     },
     "metadata": {},
     "output_type": "display_data"
    }
   ],
   "source": [
    "df1=pd.read_csv(\"x_y_data.csv\")   #Importing data\n",
    "col1 = df1['X']\n",
    "col2 = df1['Y']\n",
    "x1 = col1.as_matrix()\n",
    "y1_ = col2.as_matrix()\n",
    "plt.scatter(x1,y1_,color='red')   #Plotting data"
   ]
  },
  {
   "cell_type": "code",
   "execution_count": 3,
   "metadata": {
    "collapsed": true
   },
   "outputs": [],
   "source": [
    "#PSO parameters\n",
    "c1 = 0.1  #PSO hyperparametre\n",
    "c2 =0.1\n",
    "P = 30   #Number of particles\n",
    "N = 500 #Number of Iterations"
   ]
  },
  {
   "cell_type": "code",
   "execution_count": 4,
   "metadata": {},
   "outputs": [
    {
     "name": "stdout",
     "output_type": "stream",
     "text": [
      "Tensor(\"Variable_6/read:0\", shape=(1,), dtype=float32)\n"
     ]
    }
   ],
   "source": [
    "def swarm(P=10):  #Define partilces\n",
    "    Wpc = tf.Variable(tf.random_normal([P])) #Current value\n",
    "    bpc = tf.Variable(tf.random_normal([P]))\n",
    "    fitness_pc = tf.Variable(tf.zeros([P]))\n",
    "    \n",
    "    Wpbest= tf.Variable(tf.random_normal([P]))\n",
    "    bpbest= tf.Variable(tf.random_normal([P]))\n",
    "    fitness_pbest = tf.Variable(tf.zeros([P]))\n",
    "    \n",
    "    Wglobal= tf.Variable(tf.random_normal([1]))\n",
    "    bglobal= tf.Variable(tf.random_normal([1]))\n",
    "    fitness_global = tf.Variable(tf.zeros([1]))\n",
    "    \n",
    "    V_W = tf.Variable(tf.zeros([P]))   #Particle velocity\n",
    "    V_b = tf.Variable(tf.zeros([P]))\n",
    "    return Wpc,bpc,Wpbest,bpbest,Wglobal,bglobal,V_W,V_b,fitness_pc,fitness_pbest,fitness_global\n",
    "\n",
    "Wpc,bpc,Wpbest,bpbest,Wglobal,bglobal,V_W,V_b,fitness_pc,fitness_pbest,fitness_global =swarm(P)\n",
    "print(Wglobal)"
   ]
  },
  {
   "cell_type": "code",
   "execution_count": 5,
   "metadata": {},
   "outputs": [],
   "source": [
    "\n",
    "x = tf.placeholder(tf.float32)\n",
    "W = tf.placeholder(tf.float32)\n",
    "b = tf.placeholder(tf.float32)\n",
    "i = tf.placeholder(tf.int32)\n",
    "y_ = tf.placeholder(tf.float32)"
   ]
  },
  {
   "cell_type": "code",
   "execution_count": 6,
   "metadata": {},
   "outputs": [],
   "source": [
    "#Update particles\n",
    "V_W_update = V_W[i].assign(V_W[i]+(Wpbest[i] - Wpc[i])*c1*np.random.random() +(Wglobal[0] - Wpc[i])*c2*np.random.random() )\n",
    "V_b_update = V_b[i].assign(V_b[i]+(bpbest[i] - bpc[i])*c1*np.random.random() +(bglobal[0] - bpc[i])*c2*np.random.random() )\n",
    "Wp_update = Wpc[i].assign(V_W[i]+Wpc[i])\n",
    "bp_update = bpc[i].assign(V_b[i]+bpc[i])\n",
    "\n",
    "#Cost\n",
    "y = Wpc[i]*x + bpc[i]\n",
    "y_best = Wglobal[0]*x + bglobal[0]\n",
    "error= tf.reduce_mean(tf.square(y- y_))\n",
    "#Update fitness\n",
    "update_fitness_pc = fitness_pc[i].assign(error)\n",
    "update_fitness_pbest = fitness_pbest[i].assign(fitness_pc[i])\n",
    "update_fitness_global = fitness_global[0].assign(fitness_pc[i])\n",
    "initialize_fitness_global = fitness_global[0].assign(tf.reduce_min(fitness_pbest))\n",
    "\n",
    "update_Wpbest = Wpbest[i].assign(Wpc[i])\n",
    "update_bpbest = bpbest[i].assign(bpc[i])\n",
    "update_Wglobal = Wglobal[0].assign(Wpc[i])\n",
    "update_bglobal = bglobal[0].assign(bpc[i])\n",
    "\n",
    "def f1():return [Wpbest[i].assign(Wpc[i]),bpbest[i].assign(bpc[i]),fitness_pbest[i].assign(fitness_pc[i])]\n",
    "def f2():return [Wpbest[i],bpbest[i],fitness_pbest[i]]\n",
    "pbest_update= tf.cond(tf.less(fitness_pc[i], fitness_pbest[i]), f1, f2)\n",
    "\n",
    "def f3():return [Wglobal[0].assign(Wpc[i]),bglobal[0].assign(bpc[i]),fitness_global[0].assign(fitness_pc[i])]\n",
    "def f4():return [Wglobal[0],bglobal[0],fitness_global[0]]\n",
    "global_update= tf.cond(tf.less(fitness_pc[i], fitness_global[0]), f3, f4)\n"
   ]
  },
  {
   "cell_type": "code",
   "execution_count": 7,
   "metadata": {},
   "outputs": [
    {
     "name": "stdout",
     "output_type": "stream",
     "text": [
      "Particle fitness: [  119.44880676   325.26739502    63.47898865   138.46643066   126.3000946\n",
      "   130.27157593   488.79714966   187.39117432    30.29364586    40.56044388\n",
      "    29.67288589    63.12273407   271.03540039   550.14672852    41.08478165\n",
      "   103.86564636    48.12801361   159.07382202    32.86349487   785.2791748\n",
      "    82.94963074   793.23181152   174.69995117   313.41827393    64.50994873\n",
      "  1303.04797363    45.47896194    34.18169403   229.8939209    383.10617065]\n",
      "Global fitness: [ 29.67288589]\n",
      "Iteration: 0\n",
      "Iteration: 50\n",
      "Iteration: 100\n",
      "Iteration: 150\n",
      "Iteration: 200\n",
      "Iteration: 250\n",
      "Iteration: 300\n",
      "Iteration: 350\n",
      "Iteration: 400\n",
      "Iteration: 450\n",
      "Particle best fitness: [ 1.55862439  1.51461995  1.49847364  1.51188374  1.49782944  1.55737257\n",
      "  1.49745011  1.49908888  1.50746918  1.51665199  1.49794161  1.50588655\n",
      "  1.49734902  1.49783599  1.49792409  1.49818957  1.50252676  1.51077902\n",
      "  1.49849248  1.49620497  1.56630623  1.53947163  1.49599135  1.49559176\n",
      "  1.58056188  1.50206459  1.50983071  1.55892324  1.81251132  1.50670815]\n",
      "Global best fitness: [ 1.49559176]\n",
      "Global best particle: [array([ 0.36932212], dtype=float32), array([ 11.00793552], dtype=float32)]\n",
      "Time taken: 54.58162879943848\n"
     ]
    }
   ],
   "source": [
    "start_time = time.time()\n",
    "init = tf.global_variables_initializer()\n",
    "with tf.Session() as sess:\n",
    "    sess.run(init)\n",
    "    sess.run([V_W_update,V_b_update],feed_dict={i:0})\n",
    "    sess.run([Wp_update,bp_update],feed_dict={i:0})\n",
    "   \n",
    "    for k in range(P):     #Initialize particles\n",
    "        sess.run([update_fitness_pc],feed_dict={i:k,x:x1,y_:y1_})\n",
    "        sess.run([update_fitness_pbest],feed_dict={i:k})\n",
    "    sess.run([initialize_fitness_global])\n",
    "    print(\"Particle fitness:\",sess.run(fitness_pc))\n",
    "    print(\"Global fitness:\",sess.run(fitness_global))\n",
    "    \n",
    "    for j in range(N):      #Loop over N iterations\n",
    "        for k in range(P):  #Loop over P particles\n",
    "            \n",
    "            sess.run([V_W_update,V_b_update],feed_dict={i:k})\n",
    "            sess.run([Wp_update,bp_update],feed_dict={i:k})\n",
    "            sess.run([update_fitness_pc],feed_dict={i:k,x:x1,y_:y1_})\n",
    "            \n",
    "           \n",
    "            sess.run([pbest_update],feed_dict={i:k}) \n",
    "           \n",
    "            sess.run([global_update],feed_dict={i:k})\n",
    "                        \n",
    "            \n",
    "        if j%50== 0:\n",
    "            print(\"Iteration:\",j)    \n",
    "    print(\"Particle best fitness:\",sess.run(fitness_pbest)) \n",
    "    print(\"Global best fitness:\",sess.run(fitness_global)) \n",
    "    print(\"Global best particle:\",sess.run([Wglobal,bglobal]))  \n",
    "    \n",
    "    yfinal =sess.run([y_best],feed_dict={x:x1,y_:y1_}) #storing values\n",
    "print(\"Time taken:\", (time.time() - start_time))        "
   ]
  },
  {
   "cell_type": "code",
   "execution_count": 8,
   "metadata": {},
   "outputs": [
    {
     "data": {
      "text/plain": [
       "<matplotlib.collections.PathCollection at 0x133ffbffd30>"
      ]
     },
     "execution_count": 8,
     "metadata": {},
     "output_type": "execute_result"
    },
    {
     "data": {
      "image/png": "[encoded data removed]",
      "text/plain": [
       "<matplotlib.figure.Figure at 0x133da733470>"
      ]
     },
     "metadata": {},
     "output_type": "display_data"
    }
   ],
   "source": [
    "plt.scatter(x1,y1_,color='red')  #Plot original line\n",
    "plt.scatter(x1,yfinal,color='blue')   #Plot fitted line"
   ]
  }
 ],
 "metadata": {
  "anaconda-cloud": {},
  "kernelspec": {
   "display_name": "Python [conda root]",
   "language": "python",
   "name": "conda-root-py"
  },
  "language_info": {
   "codemirror_mode": {
    "name": "ipython",
    "version": 3
   },
   "file_extension": ".py",
   "mimetype": "text/x-python",
   "name": "python",
   "nbconvert_exporter": "python",
   "pygments_lexer": "ipython3",
   "version": "3.5.4"
  }
 },
 "nbformat": 4,
 "nbformat_minor": 1
}
