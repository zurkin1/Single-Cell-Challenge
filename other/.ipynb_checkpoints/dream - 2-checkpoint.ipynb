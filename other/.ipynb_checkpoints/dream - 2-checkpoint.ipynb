{
 "cells": [
  {
   "cell_type": "code",
   "execution_count": 22,
   "metadata": {},
   "outputs": [],
   "source": [
    "import pandas as pd\n",
    "import tensorflow as tf\n",
    "import keras\n",
    "from keras.models import Sequential, Model\n",
    "from keras.layers import Input, Dense, Embedding, Concatenate, Flatten, Dropout, Lambda, Activation, BatchNormalization\n",
    "import time\n",
    "\n",
    "b = pd.read_csv('bdtnp.csv')\n",
    "d = pd.read_csv('dge_raw.csv', index_col=0, header=None, encoding='ISO-8859-1').T\n",
    "labels = pd.read_csv('labels.csv', index_col=0, header=None).T\n",
    "b['label'] = b.index + 1\n",
    "d = d.div(d.sum(axis=1), axis=0)\n",
    "d['label'] = labels['label']\n",
    "\n",
    "#Create the true label dataframe\n",
    "#dge_true = pd.merge(dge, bdtnp, on='label', how='inner')\n",
    "#Create the false label dataframe\n",
    "#dge.ix[:,0:-1]\n",
    "#dge[dge.columns[1:-1]]\n",
    "#dge.iloc[:,0:-1]\n",
    "#bdtnp['label'] = 0 #bdtnp.index + 1\n",
    "#dge['label'] = 0\n",
    "#dge_false = pd.merge(dge, bdtnp, on='label')"
   ]
  },
  {
   "cell_type": "code",
   "execution_count": null,
   "metadata": {},
   "outputs": [],
   "source": [
    "import random\n",
    "from random import shuffle\n",
    "import numpy as np\n",
    "\n",
    "#Output of generator should be a tuple `(x, y, sample_weight)` or `(x, y)`.\n",
    "def generate_array(batch_size=100):\n",
    "    while True:\n",
    "        X = np.empty((batch_size, 9008))\n",
    "        y = np.empty((batch_size), dtype=int)\n",
    "        b_shuf = [i for i in range(len(b))]\n",
    "        shuffle(b_shuf)\n",
    "        d_shuf = [j for j in range(len(d))]\n",
    "        shuffle(d_shuf)\n",
    "        batch = 0\n",
    "        for i in b_shuf:\n",
    "             for j in d_shuf:\n",
    "                b_row = b.iloc[i]\n",
    "                d_row = d.iloc[j]\n",
    "                eq = 1 if d_row.label == b_row.label else 0\n",
    "                if (eq == 0):\n",
    "                    rand = random.randint(1,101)\n",
    "                    #Return only 1% of the cases of negative class\n",
    "                    if rand > 1:\n",
    "                        continue\n",
    "                b_row = b_row.drop('label')\n",
    "                d_row = d_row.drop('label')\n",
    "                row = b_row.append(d_row)\n",
    "                X[batch] = row\n",
    "                y[batch] = eq\n",
    "                batch = batch + 1\n",
    "                if (batch == batch_size):\n",
    "                    batch = 0\n",
    "                    yield(X,y)\n",
    "\n",
    "myg = generate_array()\n",
    "for i in myg:\n",
    "     #print(i[0].shape)\n",
    "     print(i[0][0])"
   ]
  },
  {
   "cell_type": "code",
   "execution_count": 16,
   "metadata": {},
   "outputs": [
    {
     "name": "stdout",
     "output_type": "stream",
     "text": [
      "20:58:22  Model build\n",
      "_________________________________________________________________\n",
      "Layer (type)                 Output Shape              Param #   \n",
      "=================================================================\n",
      "dense_1 (Dense)              (None, 84)                756756    \n",
      "_________________________________________________________________\n",
      "dense_2 (Dense)              (None, 1)                 85        \n",
      "=================================================================\n",
      "Total params: 756,841\n",
      "Trainable params: 756,841\n",
      "Non-trainable params: 0\n",
      "_________________________________________________________________\n",
      "None\n"
     ]
    }
   ],
   "source": [
    "#Model build\n",
    "print(time.strftime(\"%H:%M:%S\"), ' Model build')\n",
    "\n",
    "model = Sequential()\n",
    "model.add(Dense(84, activation='relu', input_dim=9008)) #9008\n",
    "model.add(Dense(1, activation='softmax'))\n",
    "model.compile(optimizer='adam', loss='mae', metrics=['accuracy'])\n",
    "print(model.summary())"
   ]
  },
  {
   "cell_type": "code",
   "execution_count": null,
   "metadata": {},
   "outputs": [],
   "source": [
    "print(time.strftime(\"%H:%M:%S\"), ' Fit')\n",
    "tbCallBack = keras.callbacks.TensorBoard(log_dir='.', histogram_freq=0, write_graph=True, write_images=True)\n",
    "history = model.fit_generator(generate_array(),\n",
    "                              steps_per_epoch=395455,\n",
    "                              epochs=5,\n",
    "                              verbose=1,\n",
    "                              class_weight={0:1, 1:400},\n",
    "                              callbacks=[tbCallBack])"
   ]
  },
  {
   "cell_type": "code",
   "execution_count": 11,
   "metadata": {},
   "outputs": [
    {
     "data": {
      "text/html": [
       "<div>\n",
       "<style scoped>\n",
       "    .dataframe tbody tr th:only-of-type {\n",
       "        vertical-align: middle;\n",
       "    }\n",
       "\n",
       "    .dataframe tbody tr th {\n",
       "        vertical-align: top;\n",
       "    }\n",
       "\n",
       "    .dataframe thead th {\n",
       "        text-align: right;\n",
       "    }\n",
       "</style>\n",
       "<table border=\"1\" class=\"dataframe\">\n",
       "  <thead>\n",
       "    <tr style=\"text-align: right;\">\n",
       "      <th></th>\n",
       "      <th>c</th>\n",
       "      <th>d</th>\n",
       "    </tr>\n",
       "  </thead>\n",
       "  <tbody>\n",
       "    <tr>\n",
       "      <th>0</th>\n",
       "      <td>0.496770</td>\n",
       "      <td>0.745368</td>\n",
       "    </tr>\n",
       "    <tr>\n",
       "      <th>1</th>\n",
       "      <td>0.451015</td>\n",
       "      <td>0.097060</td>\n",
       "    </tr>\n",
       "    <tr>\n",
       "      <th>2</th>\n",
       "      <td>0.355749</td>\n",
       "      <td>0.004011</td>\n",
       "    </tr>\n",
       "    <tr>\n",
       "      <th>3</th>\n",
       "      <td>0.962521</td>\n",
       "      <td>0.710487</td>\n",
       "    </tr>\n",
       "  </tbody>\n",
       "</table>\n",
       "</div>"
      ],
      "text/plain": [
       "          c         d\n",
       "0  0.496770  0.745368\n",
       "1  0.451015  0.097060\n",
       "2  0.355749  0.004011\n",
       "3  0.962521  0.710487"
      ]
     },
     "execution_count": 11,
     "metadata": {},
     "output_type": "execute_result"
    }
   ],
   "source": [
    "import pandas as pd\n",
    "import numpy as np\n",
    "df = pd.DataFrame(np.random.rand(4,4), columns = list('abcd'))\n",
    "df.loc[:, list(set(df.columns) - set(['a','b']))]"
   ]
  },
  {
   "cell_type": "code",
   "execution_count": null,
   "metadata": {},
   "outputs": [],
   "source": []
  }
 ],
 "metadata": {
  "kernelspec": {
   "display_name": "Python 3",
   "language": "python",
   "name": "python3"
  },
  "language_info": {
   "codemirror_mode": {
    "name": "ipython",
    "version": 3
   },
   "file_extension": ".py",
   "mimetype": "text/x-python",
   "name": "python",
   "nbconvert_exporter": "python",
   "pygments_lexer": "ipython3",
   "version": "3.6.5"
  }
 },
 "nbformat": 4,
 "nbformat_minor": 2
}
