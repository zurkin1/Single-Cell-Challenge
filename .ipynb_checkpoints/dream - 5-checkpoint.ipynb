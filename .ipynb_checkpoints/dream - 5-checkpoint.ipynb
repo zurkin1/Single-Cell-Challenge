{
 "cells": [
  {
   "cell_type": "markdown",
   "metadata": {},
   "source": [
    "- Removed generator.\n",
    "- Check all in-situ genes results."
   ]
  },
  {
   "cell_type": "code",
   "execution_count": 6,
   "metadata": {},
   "outputs": [],
   "source": [
    "import numpy as np\n",
    "import pandas as pd\n",
    "import pydot\n",
    "import tensorflow as tf\n",
    "import keras\n",
    "from keras.models import Sequential, Model\n",
    "from keras.layers import Input, Dense, Embedding, concatenate, Flatten, Dropout, Lambda, Activation, BatchNormalization, LocallyConnected1D, Reshape\n",
    "from keras.utils import plot_model\n",
    "import time\n",
    "import itertools\n",
    "import random\n",
    "\n",
    "num_situ = 84\n",
    "num_all = 8924\n",
    "b = pd.read_csv('bdtnp.csv')\n",
    "#Changes 'na' to 'naa' and 'nan' to 'nana'\n",
    "d = pd.read_csv('dge_raw.csv', index_col=0, header=None, encoding='ISO-8859-1').T\n",
    "labels = pd.read_csv('labels.csv', index_col=0, header=None).T\n",
    "#Move in-situ 84 genes to the begining\n",
    "cols = list(b) + list(set(list(d)) - set(list(b)))\n",
    "d = d.loc[:,cols]\n",
    "d = d.div(d.sum(axis=1), axis=0)\n",
    "d.reset_index(drop=True, inplace=True)\n",
    "labels.reset_index(drop=True, inplace=True)"
   ]
  },
  {
   "cell_type": "code",
   "execution_count": 4,
   "metadata": {},
   "outputs": [
    {
     "name": "stdout",
     "output_type": "stream",
     "text": [
      "Sun Sep 30 09:11:38 2018 Create true list of tuples\n",
      "Sun Sep 30 09:11:38 2018 Create false list of tuples\n",
      "Sun Sep 30 09:13:30 2018 Merging lists\n",
      "Sun Sep 30 09:13:30 2018 len(d_list): 11300\n",
      "Sun Sep 30 09:13:30 2018 Create train input arrays\n"
     ]
    }
   ],
   "source": [
    "#Create the true label pairs. Left: d-array, right: b-array \n",
    "#Labels start from 1 in the original file. They indicate a specific row in b table.\n",
    "print(time.ctime(),'Create true list of tuples')\n",
    "d['label'] = labels['label'] - 1\n",
    "d['one'] = 1\n",
    "d_true = list(zip(d.index, d.label, d.one))\n",
    "d = d.drop(['one', 'label'], 1)\n",
    "\n",
    "#Create the false label pairs\n",
    "print(time.ctime(), 'Create false list of tuples')\n",
    "a_list = [i for i in range(0,1297)] # d-array\n",
    "b_list = [j for j in range(0,3039)] # b-array\n",
    "d_prod = list(itertools.product(a_list, b_list))\n",
    "d_false = [x+(0,) for x in d_prod if x not in d_true]\n",
    "\n",
    "#Merge the two lists. Select 10003 samples from d and 1297 from b for training.\n",
    "print(time.ctime(), 'Merging lists')\n",
    "indicies = random.sample(range(len(d_false)), 10003)\n",
    "d_false1 = [d_false[i] for i in indicies]\n",
    "d_list = d_true + d_false1\n",
    "random.shuffle(d_list)\n",
    "len_list = len(d_list)\n",
    "print(time.ctime(), f'len(d_list): {len_list}') #11300\n",
    "\n",
    "print(time.ctime(), 'Create train input arrays')\n",
    "X1_train = np.empty((len_list, num_situ)) #Can create a test array using X1_test = np.empty((1300, 84))\n",
    "X2_train = np.empty((len_list, num_situ))\n",
    "X3_train = np.empty((len_list, num_all - num_situ)) #8840\n",
    "y_train = np.empty((len_list), dtype=int)\n",
    "batch=0\n",
    "for i in d_list[0:len_list]:\n",
    "    try:\n",
    "        X1_train[batch] = b.iloc[i[1]]\n",
    "        X2_train[batch] = d.iloc[i[0]][0:num_situ]\n",
    "        X3_train[batch] = d.iloc[i[0]][num_situ:]\n",
    "        y_train[batch] = i[2]\n",
    "    except:\n",
    "        print('Exception in train.............', i)\n",
    "    finally:\n",
    "        batch = batch + 1"
   ]
  },
  {
   "cell_type": "code",
   "execution_count": null,
   "metadata": {},
   "outputs": [],
   "source": [
    "#Model build\n",
    "print(time.strftime(\"%H:%M:%S\"), ' Model build')\n",
    "\n",
    "#First input model\n",
    "input_a = Input(shape=(num_situ,))\n",
    "dense_a = Dense(200, activation='softplus')(input_a)\n",
    "\n",
    "#Second input model\n",
    "input_b = Input(shape=(num_situ-1,))\n",
    "dense_b = Dense(200, activation='softplus')(input_b)\n",
    "\n",
    "#Third input model\n",
    "input_c = Input(shape=(num_all - num_situ,))\n",
    "dense_c = Dense(50, activation='softplus')(input_c)\n",
    "drop_c = Dropout(0.2)(dense_c)\n",
    "\n",
    "concat_a = concatenate([dense_a, dense_b])\n",
    "dense_d = Dense(num_situ, activation='softplus')(concat_a)\n",
    "drop_d = Dropout(0.2)(dense_d)\n",
    "\n",
    "concat_b = concatenate([drop_d, drop_c])\n",
    "dense_e = Dense(50, activation='softplus')(concat_b)\n",
    "dense_f = Dense(1, activation='sigmoid')(dense_e)\n",
    "model = Model(inputs=[input_a, input_b, input_c], outputs=[dense_f])\n",
    "model.compile(optimizer='adam', loss='binary_crossentropy', metrics=['accuracy']) # binary_crossentropy\n",
    "model.save_weights('model.h5')\n",
    "print(model.summary())\n",
    "#plot_model(model, to_file='my_model.png')"
   ]
  },
  {
   "cell_type": "code",
   "execution_count": null,
   "metadata": {},
   "outputs": [],
   "source": [
    "print(time.strftime(\"%H:%M:%S\"), ' Fit')\n",
    "\n",
    "#Try differnet training ommitting one gene at a time.\n",
    "val_acc=np.empty((num_situ,2))\n",
    "for i in range(num_situ):\n",
    "    model.load_weights('model.h5')\n",
    "    X2_temp = np.delete(X2_train, i, axis=1)\n",
    "    #tbCallBack = keras.callbacks.TensorBoard(log_dir='.', histogram_freq=0, write_graph=True, write_images=True)\n",
    "    history = model.fit(x=[X1_train, X2_temp, X3_train],\n",
    "                        y=y_train,\n",
    "                        batch_size=50,\n",
    "                        epochs=20,\n",
    "                        verbose=0,\n",
    "                        validation_split=0.3,\n",
    "                        class_weight={0:1, 1:10}) #, use_multiprocessing=True, workers=8) #, callbacks=[tbCallBack])\n",
    "    val_acc[i,0] = np.average(history.history['val_acc'])\n",
    "    val_acc[i,1] = np.max(history.history['val_acc'])\n",
    "    print(time.ctime(), f'i: {i}, val_acc average: {val_acc[i,0]}, max: {val_acc[i,1]}')\n",
    "\n",
    "np.save('val_acc.npy', val_acc)"
   ]
  },
  {
   "cell_type": "code",
   "execution_count": null,
   "metadata": {},
   "outputs": [],
   "source": [
    "X2_train.shape\n",
    "X2_train\n",
    "#np.delete(X2_train, 0, axis=1)"
   ]
  },
  {
   "cell_type": "code",
   "execution_count": 57,
   "metadata": {},
   "outputs": [
    {
     "name": "stdout",
     "output_type": "stream",
     "text": [
      "dict_keys(['val_loss', 'val_acc', 'loss', 'acc'])\n"
     ]
    },
    {
     "data": {
      "image/png": "[encoded data removed]",
      "text/plain": [
       "<Figure size 432x288 with 1 Axes>"
      ]
     },
     "metadata": {},
     "output_type": "display_data"
    },
    {
     "name": "stdout",
     "output_type": "stream",
     "text": [
      "0.6216538506631668\n",
      "0.7161538486297314\n"
     ]
    }
   ],
   "source": [
    "import matplotlib.pyplot as plt\n",
    "\n",
    "# list all data in history\n",
    "print(history.history.keys())\n",
    "plt.title('Model accuracy')\n",
    "plt.plot(history.history['acc'])\n",
    "plt.plot(history.history['val_acc'])\n",
    "plt.title('model accuracy')\n",
    "plt.ylabel('accuracy')\n",
    "plt.xlabel('epoch')\n",
    "plt.legend(['train', 'test'], loc='upper left')\n",
    "plt.show()\n",
    "print(np.average(history.history['val_acc']))\n",
    "print(np.max(history.history['val_acc']))"
   ]
  }
 ],
 "metadata": {
  "kernelspec": {
   "display_name": "Python 3",
   "language": "python",
   "name": "python3"
  },
  "language_info": {
   "codemirror_mode": {
    "name": "ipython",
    "version": 3
   },
   "file_extension": ".py",
   "mimetype": "text/x-python",
   "name": "python",
   "nbconvert_exporter": "python",
   "pygments_lexer": "ipython3",
   "version": "3.6.5"
  }
 },
 "nbformat": 4,
 "nbformat_minor": 2
}
